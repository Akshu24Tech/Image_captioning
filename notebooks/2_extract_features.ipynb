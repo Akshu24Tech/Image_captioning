{
 "cells": [
  {
   "cell_type": "code",
   "execution_count": 1,
   "metadata": {},
   "outputs": [],
   "source": [
    "# Step 1: Imports\n",
    "import tensorflow as tf\n",
    "from tensorflow.keras.applications.inception_v3 import InceptionV3, preprocess_input\n",
    "from tensorflow.keras.preprocessing import image as keras_image\n",
    "from tensorflow.keras.models import Model\n",
    "import numpy as np\n",
    "import pandas as pd\n",
    "from tqdm import tqdm\n",
    "import os\n",
    "from PIL import Image"
   ]
  },
  {
   "cell_type": "code",
   "execution_count": 2,
   "metadata": {},
   "outputs": [],
   "source": [
    "# Step 2: Paths\n",
    "CSV_PATH = '../data/captions.csv'\n",
    "IMG_FOLDER = '../data/train2017'\n",
    "FEATURE_SAVE_PATH = '../features/image_features.npy'\n",
    "IMAGE_SIZE = (299, 299)\n"
   ]
  },
  {
   "cell_type": "code",
   "execution_count": null,
   "metadata": {},
   "outputs": [],
   "source": [
    "# Step 3: Load the CSV\n",
    "df = pd.read_csv(CSV_PATH)\n",
    "image_paths = df['image'].unique()  # Only need unique images\n",
    "\n",
    "print(f\"Found {len(image_paths)} unique images.\")"
   ]
  },
  {
   "cell_type": "code",
   "execution_count": 3,
   "metadata": {},
   "outputs": [],
   "source": [
    "# Step 4: Load InceptionV3 (remove top classification layer)\n",
    "base_model = InceptionV3(weights='imagenet')\n",
    "cnn_model = Model(inputs=base_model.input, outputs=base_model.get_layer('avg_pool').output)\n"
   ]
  },
  {
   "cell_type": "code",
   "execution_count": null,
   "metadata": {},
   "outputs": [],
   "source": [
    "# Step 5: Image Preprocessing Function\n",
    "def load_and_preprocess_image(img_path):\n",
    "    img_path = os.path.join(IMG_FOLDER, os.path.basename(img_path))\n",
    "    img = keras_image.load_img(img_path, target_size=IMAGE_SIZE)\n",
    "    img_array = keras_image.img_to_array(img)\n",
    "    img_array = np.expand_dims(img_array, axis=0)\n",
    "    img_array = preprocess_input(img_array)\n",
    "    return img_array"
   ]
  },
  {
   "cell_type": "code",
   "execution_count": null,
   "metadata": {},
   "outputs": [],
   "source": [
    "# Step 6: Extract Features\n",
    "features = {}\n",
    "for img_name in tqdm(image_paths):\n",
    "    try:\n",
    "        img_array = load_and_preprocess_image(img_name)\n",
    "        feature_vector = cnn_model.predict(img_array)\n",
    "        features[img_name] = feature_vector.squeeze()  # Shape: (2048,)\n",
    "    except Exception as e:\n",
    "        print(f\"⚠️ Error processing {img_name}: {e}\")"
   ]
  },
  {
   "cell_type": "code",
   "execution_count": null,
   "metadata": {},
   "outputs": [],
   "source": [
    "\n",
    "# Step 7: Save features as numpy array\n",
    "# Map image_name to row index, and save separately\n",
    "image_list = list(features.keys())\n",
    "feature_matrix = np.array([features[img] for img in image_list])\n",
    "\n",
    "np.save(FEATURE_SAVE_PATH, feature_matrix)\n",
    "np.save('../features/image_names.npy', image_list)\n",
    "\n",
    "print(f\"✅ Extracted features for {len(image_list)} images.\")\n",
    "print(f\"Saved to: {FEATURE_SAVE_PATH}\")"
   ]
  }
 ],
 "metadata": {
  "kernelspec": {
   "display_name": ".venv",
   "language": "python",
   "name": "python3"
  },
  "language_info": {
   "codemirror_mode": {
    "name": "ipython",
    "version": 3
   },
   "file_extension": ".py",
   "mimetype": "text/x-python",
   "name": "python",
   "nbconvert_exporter": "python",
   "pygments_lexer": "ipython3",
   "version": "3.12.3"
  }
 },
 "nbformat": 4,
 "nbformat_minor": 2
}
