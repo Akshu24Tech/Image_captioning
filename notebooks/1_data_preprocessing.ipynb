{
 "cells": [
  {
   "cell_type": "code",
   "execution_count": 1,
   "metadata": {},
   "outputs": [],
   "source": [
    "# Step 1: Imports\n",
    "import os\n",
    "import json\n",
    "import pandas as pd\n",
    "import matplotlib.pyplot as plt\n",
    "from tqdm import tqdm\n",
    "import re"
   ]
  },
  {
   "cell_type": "code",
   "execution_count": 2,
   "metadata": {},
   "outputs": [],
   "source": [
    "# Step 2: File paths (edit if needed)\n",
    "ANNOTATIONS_PATH = '../data/annotations/captions_train2017.json'\n",
    "IMAGE_FOLDER = '../data/train2017'\n",
    "OUTPUT_CSV_PATH = '../data/captions.csv'"
   ]
  },
  {
   "cell_type": "code",
   "execution_count": null,
   "metadata": {},
   "outputs": [],
   "source": [
    "# Step 3: Load COCO annotations\n",
    "with open(ANNOTATIONS_PATH, 'r') as f:\n",
    "    coco_data = json.load(f)\n",
    "\n",
    "print(\"Loaded\", len(coco_data['annotations']), \"captions.\")"
   ]
  },
  {
   "cell_type": "code",
   "execution_count": null,
   "metadata": {},
   "outputs": [],
   "source": [
    "# Step 4: Create mapping: image_id → file_name\n",
    "image_id_to_file = {}\n",
    "for img in coco_data['images']:\n",
    "    image_id_to_file[img['id']] = img['file_name']\n"
   ]
  },
  {
   "cell_type": "code",
   "execution_count": null,
   "metadata": {},
   "outputs": [],
   "source": [
    "# Step 5: Create list of image-caption pairs\n",
    "image_paths = []\n",
    "captions = []\n",
    "\n",
    "for ann in tqdm(coco_data['annotations']):\n",
    "    img_id = ann['image_id']\n",
    "    caption = ann['caption']\n",
    "    file_name = image_id_to_file.get(img_id)\n",
    "\n",
    "    if file_name:\n",
    "        image_path = os.path.join('train2017', file_name)\n",
    "        image_paths.append(image_path)\n",
    "        captions.append(caption)"
   ]
  },
  {
   "cell_type": "code",
   "execution_count": null,
   "metadata": {},
   "outputs": [],
   "source": [
    "# Step 6: Clean captions\n",
    "def clean_caption(caption):\n",
    "    caption = caption.lower()\n",
    "    caption = re.sub(r\"[^a-z0-9\\s]\", \"\", caption)\n",
    "    caption = re.sub(r\"\\s+\", \" \", caption)\n",
    "    caption = caption.strip()\n",
    "    caption = f\"<start> {caption} <end>\"\n",
    "    return caption\n",
    "\n",
    "captions = [clean_caption(cap) for cap in captions]"
   ]
  },
  {
   "cell_type": "code",
   "execution_count": null,
   "metadata": {},
   "outputs": [],
   "source": [
    "# Step 7: Save to CSV\n",
    "df = pd.DataFrame({\n",
    "    'image': image_paths,\n",
    "    'caption': captions\n",
    "})\n",
    "df.to_csv(OUTPUT_CSV_PATH, index=False)\n",
    "\n",
    "print(f\"✅ Saved {len(df)} image-caption pairs to {OUTPUT_CSV_PATH}\")\n",
    "df.head()"
   ]
  }
 ],
 "metadata": {
  "kernelspec": {
   "display_name": "Python 3",
   "language": "python",
   "name": "python3"
  },
  "language_info": {
   "codemirror_mode": {
    "name": "ipython",
    "version": 3
   },
   "file_extension": ".py",
   "mimetype": "text/x-python",
   "name": "python",
   "nbconvert_exporter": "python",
   "pygments_lexer": "ipython3",
   "version": "3.12.3"
  }
 },
 "nbformat": 4,
 "nbformat_minor": 2
}
